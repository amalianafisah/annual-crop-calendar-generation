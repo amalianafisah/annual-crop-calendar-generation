{
 "cells": [
  {
   "cell_type": "code",
   "execution_count": null,
   "id": "966af810",
   "metadata": {},
   "outputs": [],
   "source": [
    "import numpy as np\n",
    "from numpy.ma import masked_values as mv\n",
    "import gsw\n",
    "import xarray as xr\n",
    "import pandas as pd\n",
    "import os.path as op\n",
    "from datetime import datetime, timedelta\n",
    "from scipy.interpolate import PchipInterpolator as pchip\n",
    "from scipy.interpolate import Akima1DInterpolator as akima\n",
    "from scipy.signal import medfilt\n",
    "import dask.array as dsar\n",
    "import cartopy.crs as ccrs\n",
    "import cartopy.feature as cfeature\n",
    "from cartopy.mpl.geoaxes import GeoAxes\n",
    "from cartopy.mpl.ticker import LongitudeFormatter, LatitudeFormatter\n",
    "from cartopy.mpl.gridliner import LONGITUDE_FORMATTER, LATITUDE_FORMATTER\n",
    "from mpl_toolkits.axes_grid1 import AxesGrid\n",
    "import matplotlib\n",
    "from matplotlib import cm\n",
    "import matplotlib as mpl\n",
    "import matplotlib.colors as clr\n",
    "import matplotlib.path as mpath\n",
    "import matplotlib.pyplot as plt\n",
    "import matplotlib.patches as patches\n",
    "import matplotlib.ticker as mticker # buat ganti tick\n",
    "import scipy\n",
    "import math \n",
    "from scipy.signal import find_peaks\n",
    "np.warnings.filterwarnings('ignore') # ini buat ignore si warning nan\n",
    "import datetime\n",
    "\n",
    "%matplotlib inline"
   ]
  },
  {
   "cell_type": "markdown",
   "id": "95361d4f",
   "metadata": {},
   "source": [
    "# open the required dataset\n",
    "### change the nc file within the apostrophe (red color) into your smoothed ndvi time series dataset"
   ]
  },
  {
   "cell_type": "code",
   "execution_count": null,
   "id": "9103ecc4",
   "metadata": {},
   "outputs": [],
   "source": [
    "ds = xr.open_dataset('ndvi_agriculture_2009based.nc').ndvi"
   ]
  },
  {
   "cell_type": "code",
   "execution_count": null,
   "id": "3d025405",
   "metadata": {},
   "outputs": [],
   "source": [
    "ds.load()"
   ]
  },
  {
   "cell_type": "markdown",
   "id": "929c189d",
   "metadata": {},
   "source": [
    "# define the range of the month for start, peak, and end\n",
    "### the range of month and the total number of cropping season will depend on the general cropping season in each region\n",
    "### in this case, because there are two dry cropping season, there are also two of the start, peak, and end season"
   ]
  },
  {
   "cell_type": "code",
   "execution_count": null,
   "id": "cfb69d9c",
   "metadata": {},
   "outputs": [],
   "source": [
    "def start_month_1(month):\n",
    "    return (month >= 1) & (month <= (int(max_month_1)))"
   ]
  },
  {
   "cell_type": "code",
   "execution_count": null,
   "id": "903917cb",
   "metadata": {},
   "outputs": [],
   "source": [
    "def peak_month_1(month):\n",
    "    return (month >= 1) & (month <= 8)"
   ]
  },
  {
   "cell_type": "code",
   "execution_count": null,
   "id": "35e171b6",
   "metadata": {},
   "outputs": [],
   "source": [
    "def end_month_1(month):\n",
    "    return (month >= (int(max_month_1))) & (month <= 12)"
   ]
  },
  {
   "cell_type": "code",
   "execution_count": null,
   "id": "7a2b8cd6",
   "metadata": {},
   "outputs": [],
   "source": [
    "def start_month_2(month):\n",
    "    return (month >= 1) & (month <= (int(max_month_2)))"
   ]
  },
  {
   "cell_type": "code",
   "execution_count": null,
   "id": "38d47cc1",
   "metadata": {},
   "outputs": [],
   "source": [
    "def peak_month_2(month):\n",
    "    return (month >= 1) & (month <= 8)"
   ]
  },
  {
   "cell_type": "code",
   "execution_count": null,
   "id": "61ad6bad",
   "metadata": {},
   "outputs": [],
   "source": [
    "def end_month_2(month):\n",
    "    return (month >= (int(max_month_2))) & (month <= 12)"
   ]
  },
  {
   "cell_type": "markdown",
   "id": "cbe28987",
   "metadata": {},
   "source": [
    "### create a storage for saving data during looping process\n",
    "#### notes: the number \"21\" comes from total year in study period; because this study conducted from 2001 - 2021 so the total times is 21. please adjust it accordingly to your study period."
   ]
  },
  {
   "cell_type": "code",
   "execution_count": null,
   "id": "a3044cee",
   "metadata": {},
   "outputs": [],
   "source": [
    "storage_season = np.zeros([len(ds.lat),len(ds.lon),21])\n",
    "\n",
    "storage_pos_1 = np.zeros([len(ds.lat),len(ds.lon),21])\n",
    "storage_sos_1 = np.zeros([len(ds.lat),len(ds.lon),21])\n",
    "storage_eos_1 = np.zeros([len(ds.lat),len(ds.lon),21])\n",
    "\n",
    "storage_pos_2 = np.zeros([len(ds.lat),len(ds.lon),21])\n",
    "storage_sos_2 = np.zeros([len(ds.lat),len(ds.lon),21])\n",
    "storage_eos_2 = np.zeros([len(ds.lat),len(ds.lon),21])"
   ]
  },
  {
   "cell_type": "markdown",
   "id": "5269e251",
   "metadata": {},
   "source": [
    "# main code and looping"
   ]
  },
  {
   "cell_type": "code",
   "execution_count": null,
   "id": "97567886",
   "metadata": {},
   "outputs": [],
   "source": [
    "%%time\n",
    "\n",
    "for i in range(len(ds.lat)):\n",
    "    if i%10 == 0:\n",
    "        print(f'currently working on the latitude - {i}')\n",
    "    for j in range(len(ds.lon)):\n",
    "        \n",
    "        current_grid = ds.isel(lat=i, lon=j)\n",
    "        \n",
    "        if np.isnan(current_grid).any()==False:\n",
    "\n",
    "            for k in range(0,21):\n",
    "\n",
    "                current_year = current_grid.sel(time = f\"{2001+k}\")\n",
    "\n",
    "                peak_year_1 = current_year.sel(time = peak_month_1(current_year['time.month']))\n",
    "                peak_index_1 = (np.diff(np.sign(np.diff(peak_year_1))) < 0).nonzero()[0] + 1\n",
    "                \n",
    "                storage_season[i,j,k] = (len(peak_index_1))\n",
    "\n",
    "                if (len(peak_index_1) == 1):\n",
    "\n",
    "                    peak_date_1 = peak_year_1[peak_index_1].time\n",
    "                    max_month_1 = peak_date_1.time.dt.strftime(\"%m\")\n",
    "\n",
    "                    start_year_1 = current_year.sel(time = start_month_1(current_year['time.month']))\n",
    "                    start_index_1 = (np.diff(np.sign(np.diff(start_year_1))) > 0).nonzero()[0] + 1\n",
    "\n",
    "                    if (len(start_index_1) > 0):\n",
    "\n",
    "                        end_year_1 = current_year.sel(time = end_month_1(current_year['time.month']))\n",
    "                        end_index_1 = (np.diff(np.sign(np.diff(end_year_1))) > 0).nonzero()[0] + 1\n",
    "\n",
    "                        if (len(end_index_1) > 0):\n",
    "\n",
    "                            storage_pos_1[i,j,k] = peak_date_1.dt.dayofyear\n",
    "                            storage_pos_2[i,j,k] = np.nan\n",
    "\n",
    "                            start_date_1 = start_year_1[(start_index_1.max())].time\n",
    "                            storage_sos_1[i,j,k] = start_date_1.dt.dayofyear\n",
    "                            storage_sos_2[i,j,k] = np.nan\n",
    "\n",
    "                            end_date_1 = end_year_1[(end_index_1.min())].time\n",
    "                            storage_eos_1[i,j,k] = end_date_1.dt.dayofyear\n",
    "                            storage_eos_2[i,j,k] = np.nan\n",
    "\n",
    "                if (len(peak_index_1) > 1):\n",
    "\n",
    "                    peak_date_1 = peak_year_1[(peak_index_1.min())].time\n",
    "                    peak_date_2 = peak_year_1[(peak_index_1[1])].time\n",
    "                    max_month_1 = peak_date_1.time.dt.strftime(\"%m\")\n",
    "                    max_month_2 = peak_date_2.time.dt.strftime(\"%m\")\n",
    "\n",
    "                    start_year_1 = current_year.sel(time = start_month_1(current_year['time.month']))\n",
    "                    start_index_1 = (np.diff(np.sign(np.diff(start_year_1))) > 0).nonzero()[0] + 1\n",
    "                    start_year_2 = current_year.sel(time = start_month_2(current_year['time.month']))\n",
    "                    start_index_2 = (np.diff(np.sign(np.diff(start_year_2))) > 0).nonzero()[0] + 1\n",
    "\n",
    "                    if (len(start_index_1) == 0) & (len(start_index_2) > 0):\n",
    "\n",
    "                        end_year_2 = current_year.sel(time = end_month_2(current_year['time.month']))\n",
    "                        end_index_2 = (np.diff(np.sign(np.diff(end_year_2))) > 0).nonzero()[0] + 1\n",
    "                        \n",
    "                        if (len(end_index_2) > 0):\n",
    "\n",
    "                            storage_pos_1[i,j,k] = np.nan\n",
    "                            storage_pos_2[i,j,k] = peak_date_2.dt.dayofyear\n",
    "\n",
    "                            storage_sos_1[i,j,k] = np.nan\n",
    "                            start_date_2 = start_year_2[(start_index_2.max())].time\n",
    "                            storage_sos_2[i,j,k] = start_date_2.dt.dayofyear\n",
    "\n",
    "                            storage_eos_1[i,j,k] = np.nan\n",
    "                            end_date_2 = end_year_2[(end_index_2.min())].time\n",
    "                            storage_eos_2[i,j,k] = end_date_2.dt.dayofyear\n",
    "\n",
    "                        \n",
    "                        if (len(end_index_2) == 0):\n",
    "\n",
    "                            storage_pos_1[i,j,k] = np.nan\n",
    "                            storage_pos_2[i,j,k] = np.nan\n",
    "\n",
    "                            storage_sos_1[i,j,k] = np.nan\n",
    "                            storage_sos_2[i,j,k] = np.nan\n",
    "\n",
    "                            storage_eos_1[i,j,k] = np.nan\n",
    "                            storage_eos_2[i,j,k] = np.nan\n",
    "\n",
    "\n",
    "                    if (len(start_index_1) > 0) & (len(start_index_2) == 0):\n",
    "\n",
    "                        end_year_1 = current_year.sel(time = end_month_1(current_year['time.month']))\n",
    "                        end_index_1 = (np.diff(np.sign(np.diff(end_year_1))) > 0).nonzero()[0] + 1\n",
    "\n",
    "                        if (len(end_index_1) > 0):\n",
    "                            \n",
    "                            storage_pos_1[i,j,k] = peak_date_1.dt.dayofyear\n",
    "                            storage_pos_2[i,j,k] = np.nan\n",
    "\n",
    "                            start_date_1 = start_year_1[(start_index_1.max())].time\n",
    "                            storage_sos_1[i,j,k] = start_date_1.dt.dayofyear\n",
    "                            storage_sos_2[i,j,k] = np.nan\n",
    "\n",
    "                            end_date_1 = end_year_1[(end_index_1.min())].time\n",
    "                            storage_eos_1[i,j,k] = end_date_1.dt.dayofyear\n",
    "                            storage_eos_2[i,j,k] = np.nan\n",
    "\n",
    "                        if (len(end_index_1) == 0):\n",
    "                            \n",
    "                            storage_pos_1[i,j,k] = np.nan\n",
    "                            storage_pos_2[i,j,k] = np.nan\n",
    "\n",
    "                            storage_sos_1[i,j,k] = np.nan\n",
    "                            storage_sos_2[i,j,k] = np.nan\n",
    "\n",
    "                            storage_eos_1[i,j,k] = np.nan\n",
    "                            storage_eos_2[i,j,k] = np.nan\n",
    "\n",
    "\n",
    "                    if (len(start_index_1) > 0) & (len(start_index_2) > 0):\n",
    "\n",
    "                        end_year_1 = current_year.sel(time = end_month_1(current_year['time.month']))\n",
    "                        end_index_1 = (np.diff(np.sign(np.diff(end_year_1))) > 0).nonzero()[0] + 1\n",
    "                        end_year_2 = current_year.sel(time = end_month_2(current_year['time.month']))\n",
    "                        end_index_2 = (np.diff(np.sign(np.diff(end_year_2))) > 0).nonzero()[0] + 1\n",
    "\n",
    "                        if (len(end_index_1) == 0) & (len(end_index_2) > 0):\n",
    "\n",
    "                            storage_pos_1[i,j,k] = np.nan\n",
    "                            storage_pos_2[i,j,k] = peak_date_2.dt.dayofyear\n",
    "\n",
    "                            storage_sos_1[i,j,k] = np.nan\n",
    "                            start_date_2 = start_year_2[(start_index_2.max())].time\n",
    "                            storage_sos_2[i,j,k] = start_date_2.dt.dayofyear\n",
    "\n",
    "                            storage_eos_1[i,j,k] = np.nan\n",
    "                            end_date_2 = end_year_2[(end_index_2.min())].time\n",
    "                            storage_eos_2[i,j,k] = end_date_2.dt.dayofyear\n",
    "\n",
    "\n",
    "                    if (len(start_index_1) > 0) & (len(start_index_2) > 0):\n",
    "\n",
    "                        end_year_1 = current_year.sel(time = end_month_1(current_year['time.month']))\n",
    "                        end_index_1 = (np.diff(np.sign(np.diff(end_year_1))) > 0).nonzero()[0] + 1\n",
    "                        end_year_2 = current_year.sel(time = end_month_2(current_year['time.month']))\n",
    "                        end_index_2 = (np.diff(np.sign(np.diff(end_year_2))) > 0).nonzero()[0] + 1\n",
    "\n",
    "                        if (len(end_index_1) > 0) & (len(end_index_2) == 0):\n",
    "\n",
    "                            storage_pos_1[i,j,k] = peak_date_1.dt.dayofyear\n",
    "                            storage_pos_2[i,j,k] = np.nan\n",
    "\n",
    "                            start_date_1 = start_year_1[(start_index_1.max())].time\n",
    "                            storage_sos_1[i,j,k] = start_date_1.dt.dayofyear\n",
    "                            storage_sos_2[i,j,k] = np.nan\n",
    "\n",
    "                            end_date_1 = end_year_1[(end_index_1.min())].time\n",
    "                            storage_eos_1[i,j,k] = end_date_1.dt.dayofyear\n",
    "                            storage_eos_2[i,j,k] = np.nan\n",
    "\n",
    "                            \n",
    "                    if (len(start_index_1) > 0) & (len(start_index_2) > 0):\n",
    "\n",
    "                        end_year_1 = current_year.sel(time = end_month_1(current_year['time.month']))\n",
    "                        end_index_1 = (np.diff(np.sign(np.diff(end_year_1))) > 0).nonzero()[0] + 1\n",
    "                        end_year_2 = current_year.sel(time = end_month_2(current_year['time.month']))\n",
    "                        end_index_2 = (np.diff(np.sign(np.diff(end_year_2))) > 0).nonzero()[0] + 1\n",
    "\n",
    "                        if (len(end_index_1) == 0) & (len(end_index_2) == 0):\n",
    "\n",
    "                            storage_pos_1[i,j,k] = np.nan\n",
    "                            storage_pos_2[i,j,k] = np.nan\n",
    "\n",
    "                            storage_sos_1[i,j,k] = np.nan\n",
    "                            storage_sos_2[i,j,k] = np.nan\n",
    "\n",
    "                            storage_eos_1[i,j,k] = np.nan\n",
    "                            storage_eos_2[i,j,k] = np.nan\n",
    "\n",
    "\n",
    "                    if (len(start_index_1) > 0) & (len(start_index_2) > 0):\n",
    "\n",
    "                        end_year_1 = current_year.sel(time = end_month_1(current_year['time.month']))\n",
    "                        end_index_1 = (np.diff(np.sign(np.diff(end_year_1))) > 0).nonzero()[0] + 1\n",
    "                        end_year_2 = current_year.sel(time = end_month_2(current_year['time.month']))\n",
    "                        end_index_2 = (np.diff(np.sign(np.diff(end_year_2))) > 0).nonzero()[0] + 1\n",
    "\n",
    "                        if (len(end_index_1) > 0) & (len(end_index_2) > 0):\n",
    "\n",
    "                            storage_pos_1[i,j,k] = peak_date_1.dt.dayofyear\n",
    "                            storage_pos_2[i,j,k] = peak_date_2.dt.dayofyear\n",
    "\n",
    "                            start_date_1 = start_year_1[(start_index_1.max())].time\n",
    "                            storage_sos_1[i,j,k] = start_date_1.dt.dayofyear\n",
    "                            start_date_2 = start_year_2[(start_index_2.max())].time\n",
    "                            storage_sos_2[i,j,k] = start_date_2.dt.dayofyear\n",
    "\n",
    "                            end_date_1 = end_year_1[(end_index_1.min())].time\n",
    "                            storage_eos_1[i,j,k] = end_date_1.dt.dayofyear\n",
    "                            end_date_2 = end_year_2[(end_index_2.min())].time\n",
    "                            storage_eos_2[i,j,k] = end_date_2.dt.dayofyear\n"
   ]
  },
  {
   "cell_type": "markdown",
   "id": "5626d3f1",
   "metadata": {},
   "source": [
    "# create a dataset"
   ]
  },
  {
   "cell_type": "code",
   "execution_count": null,
   "id": "2e7c046f",
   "metadata": {},
   "outputs": [],
   "source": [
    "list_year = np.arange(2001,2022)"
   ]
  },
  {
   "cell_type": "code",
   "execution_count": null,
   "id": "f4c545d2",
   "metadata": {},
   "outputs": [],
   "source": [
    "for_year = np.atleast_1d(list_year)"
   ]
  },
  {
   "cell_type": "code",
   "execution_count": null,
   "id": "859b8604",
   "metadata": {},
   "outputs": [],
   "source": [
    "ds_result = xr.Dataset({'sos_1':(('lat','lon','time'),storage_sos_1),\n",
    "                        'pos_1':(('lat','lon','time'),storage_pos_1),\n",
    "                        'eos_1':(('lat','lon','time'),storage_eos_1),\n",
    "                        'sos_2':(('lat','lon','time'),storage_sos_2),\n",
    "                        'pos_2':(('lat','lon','time'),storage_pos_2),\n",
    "                        'eos_2':(('lat','lon','time'),storage_eos_2),\n",
    "                        'total_season':(('lat','lon','time'),storage_season)},\n",
    "                        coords = {'lat':ds.lat, 'lon':ds.lon, 'time':for_year})\n",
    "\n",
    "ds_result = ds_result.where(ds_result>0)"
   ]
  },
  {
   "cell_type": "markdown",
   "id": "4ff057de",
   "metadata": {},
   "source": [
    "# saving file into .nc format\n",
    "### change the name within the apostrophe (red color) into your desired dataset name"
   ]
  },
  {
   "cell_type": "code",
   "execution_count": null,
   "id": "633d9f37",
   "metadata": {},
   "outputs": [],
   "source": [
    "ds_result.to_netcdf(\"annual_crop_calendar.nc\")"
   ]
  }
 ],
 "metadata": {
  "kernelspec": {
   "display_name": "Python 3",
   "language": "python",
   "name": "python3"
  },
  "language_info": {
   "codemirror_mode": {
    "name": "ipython",
    "version": 3
   },
   "file_extension": ".py",
   "mimetype": "text/x-python",
   "name": "python",
   "nbconvert_exporter": "python",
   "pygments_lexer": "ipython3",
   "version": "3.7.9"
  }
 },
 "nbformat": 4,
 "nbformat_minor": 5
}
